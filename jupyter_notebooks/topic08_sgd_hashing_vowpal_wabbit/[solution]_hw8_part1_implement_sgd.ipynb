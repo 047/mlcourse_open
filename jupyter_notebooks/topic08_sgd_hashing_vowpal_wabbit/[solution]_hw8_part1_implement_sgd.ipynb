{
 "cells": [
  {
   "cell_type": "markdown",
   "metadata": {},
   "source": [
    "<center>\n",
    "<img src=\"../../img/ods_stickers.jpg\">\n",
    "## Открытый курс по машинному обучению\n",
    "</center>\n",
    "<center>Автор материала: программист-исследователь Mail.ru Group, старший преподаватель <br>Факультета Компьютерных Наук ВШЭ Юрий Кашницкий"
   ]
  },
  {
   "cell_type": "markdown",
   "metadata": {},
   "source": [
    "# <center> Домашнее задание № 8. Часть 1. Решение\n",
    "## <center> Реализация алгоритмов онлайн-обучения"
   ]
  },
  {
   "cell_type": "markdown",
   "metadata": {},
   "source": [
    "В первой части задания вам предлагается реализовать два алгоритма – регрессор и классификатор, обучаемые стохастическим градиентным спуском (Stochastic Gradient Descent, SGD). [Веб-форма](https://goo.gl/forms/z8zENbMiaEAeB7nG3) для ответов."
   ]
  },
  {
   "cell_type": "markdown",
   "metadata": {},
   "source": [
    "## План 1 части домашнего задания\n",
    "    1.1. Линейная регрессия и SGD\n",
    "    1.2. Логистическая регрессия и SGD\n",
    "    1.3. Логистическая регрессия и SGDClassifier в задаче классификации отзывов к фильмам"
   ]
  },
  {
   "cell_type": "markdown",
   "metadata": {},
   "source": [
    "В [статье](https://habrahabr.ru/company/ods/blog/326418/) было описано, как таким образом обучать регрессор, т.е. минимизировать квадратичную функцию потерь. Реализуем этот алгоритм."
   ]
  },
  {
   "cell_type": "markdown",
   "metadata": {},
   "source": [
    "Вначале проверим версии библиотек с помощью расширения [watermark](https://github.com/rasbt/watermark). Заодно и Vowpal Wabbit, который понадобится во 2 части задания – версия должна быть последняя на момент написания, 8.3.2."
   ]
  },
  {
   "cell_type": "code",
   "execution_count": 1,
   "metadata": {
    "collapsed": true
   },
   "outputs": [],
   "source": [
    "#pip install watermark\n",
    "%load_ext watermark"
   ]
  },
  {
   "cell_type": "code",
   "execution_count": 2,
   "metadata": {},
   "outputs": [
    {
     "name": "stdout",
     "output_type": "stream",
     "text": [
      "CPython 3.6.1\n",
      "IPython 5.3.0\n",
      "\n",
      "numpy 1.12.1\n",
      "scipy 0.19.0\n",
      "pandas 0.19.2\n",
      "matplotlib 2.0.0\n",
      "sklearn 0.18.1\n",
      "\n",
      "compiler   : GCC 4.2.1 Compatible Apple LLVM 6.0 (clang-600.0.57)\n",
      "system     : Darwin\n",
      "release    : 16.5.0\n",
      "machine    : x86_64\n",
      "processor  : i386\n",
      "CPU cores  : 8\n",
      "interpreter: 64bit\n"
     ]
    }
   ],
   "source": [
    "%watermark -v -m -p numpy,scipy,pandas,matplotlib,sklearn "
   ]
  },
  {
   "cell_type": "code",
   "execution_count": 3,
   "metadata": {},
   "outputs": [
    {
     "name": "stdout",
     "output_type": "stream",
     "text": [
      "8.3.2\r\n"
     ]
    }
   ],
   "source": [
    "!vw --version"
   ]
  },
  {
   "cell_type": "markdown",
   "metadata": {},
   "source": [
    "##  1.1. Линейная регрессия и SGD"
   ]
  },
  {
   "cell_type": "code",
   "execution_count": 4,
   "metadata": {
    "collapsed": true
   },
   "outputs": [],
   "source": [
    "import warnings\n",
    "warnings.filterwarnings('ignore')\n",
    "import numpy as np\n",
    "import pandas as pd\n",
    "from tqdm import tqdm\n",
    "from sklearn.base import BaseEstimator\n",
    "from sklearn.metrics import mean_squared_error, log_loss, roc_auc_score\n",
    "from sklearn.model_selection import train_test_split\n",
    "%matplotlib inline\n",
    "from matplotlib import pyplot as plt\n",
    "import seaborn as sns\n",
    "from sklearn.preprocessing import StandardScaler"
   ]
  },
  {
   "cell_type": "markdown",
   "metadata": {},
   "source": [
    "Реализуйте класс `SGDRegressor`. Спецификация:\n",
    "- класс наследуется от `sklearn.base.BaseEstimator`\n",
    "- конструктор принимает параметры `eta` – шаг градиентного спуска (по умолчанию $10^{-3}$) и `n_iter` – число проходов по выборке (по умолчанию 10)\n",
    "- также в конструкторе должны создаваться списки `mse_` и `weights_` для отслеживания значений среднеквадратичной ошибки и вектора весов по итерациям градиентного спуска\n",
    "- Класс имеет методы `fit` и `predict`\n",
    "- Метод `fit` принимает матрицу `X` и вектор `y` (объекты `numpy.array`), добавляет к матрице `X` слева столбец из единиц, инициализирует вектор весов `w` **нулями** и в цикле с числом итераций `n_iter` обновляет веса (см. [статью](https://habrahabr.ru/company/ods/blog/326418/)), а также записывает получившиеся на данной итерации значения среднеквадратичной ошибки (именно MSE, SE слишком большими будут) и вектор весов `w` в предназначенные для этого списки. \n",
    "- В конце метод `fit` создает переменную `w_`, в которой хранится тот вектор весов, при котором ошибка минимальна\n",
    "- Метод `fit` должен возвращать текущий экземпляр класса `SGDRegressor`, т.е. `self`\n",
    "- Метод `predict` принимает матрицу `X`, добавляет к ней слева столбец из единиц и возвращает вектор прогнозов модели, используя созданный методом `fit` вектор весов `w_`."
   ]
  },
  {
   "cell_type": "code",
   "execution_count": 5,
   "metadata": {
    "collapsed": true
   },
   "outputs": [],
   "source": [
    "class SGDRegressor(BaseEstimator):\n",
    "    \n",
    "    def __init__(self, eta=1e-3, n_iter=10):\n",
    "        self.eta = eta\n",
    "        self.n_iter = n_iter\n",
    "        self.mse_ = []\n",
    "        self.weights_ = []\n",
    "        \n",
    "    def fit(self, X, y):\n",
    "        X = np.hstack([np.ones([X.shape[0], 1]), X])\n",
    "        \n",
    "        w = np.zeros(X.shape[1])\n",
    "        \n",
    "        for it in tqdm(range(self.n_iter)):\n",
    "            for i in range(X.shape[0]):\n",
    "                 \n",
    "                w[0] += self.eta * (y[i] - w.dot(X[i, :]))\n",
    "                for j in range(1, X.shape[1]):\n",
    "                    w[j] += self.eta * (y[i] - w.dot(X[i, :])) * X[i, j]\n",
    "                self.weights_.append(w.copy())\n",
    "                self.mse_.append(mean_squared_error(y, X.dot(w)))\n",
    "                \n",
    "        self.w_ = self.weights_[np.argmin(self.mse_)]\n",
    "                \n",
    "        return self\n",
    "                  \n",
    "    def predict(self, X):\n",
    "        X = np.hstack([np.ones([X.shape[0], 1]), X])\n",
    "        \n",
    "        return X.dot(self.w_)\n",
    "                  "
   ]
  },
  {
   "cell_type": "markdown",
   "metadata": {},
   "source": [
    "Проверим работу алгоритма на данных по росту и весу. Будем прогнозировать рост (в дюймах) по весу (в фунтах)."
   ]
  },
  {
   "cell_type": "code",
   "execution_count": 6,
   "metadata": {
    "collapsed": true
   },
   "outputs": [],
   "source": [
    "data_demo = pd.read_csv('../../data/weights_heights.csv')"
   ]
  },
  {
   "cell_type": "code",
   "execution_count": 7,
   "metadata": {},
   "outputs": [
    {
     "data": {
      "image/png": "[encoded data removed]",
      "text/plain": [
       "<matplotlib.figure.Figure at 0x1127c5080>"
      ]
     },
     "metadata": {},
     "output_type": "display_data"
    }
   ],
   "source": [
    "plt.scatter(data_demo['Weight'], data_demo['Height']);\n",
    "plt.xlabel('Weight')\n",
    "plt.ylabel('Height');"
   ]
  },
  {
   "cell_type": "code",
   "execution_count": 8,
   "metadata": {
    "collapsed": true
   },
   "outputs": [],
   "source": [
    "X, y = data_demo['Weight'].values, data_demo['Height'].values"
   ]
  },
  {
   "cell_type": "markdown",
   "metadata": {},
   "source": [
    "Выделим 70% под обучение, 30% – под проверку и масштабируем выборку."
   ]
  },
  {
   "cell_type": "code",
   "execution_count": 9,
   "metadata": {
    "collapsed": true
   },
   "outputs": [],
   "source": [
    "X_train, X_valid, y_train, y_valid = train_test_split(X, y,\n",
    "                                                     test_size=0.3,\n",
    "                                                     random_state=17)"
   ]
  },
  {
   "cell_type": "code",
   "execution_count": 10,
   "metadata": {
    "collapsed": true
   },
   "outputs": [],
   "source": [
    "scaler = StandardScaler()\n",
    "X_train_scaled = scaler.fit_transform(X_train.reshape([X_train.shape[0], 1]))\n",
    "X_valid_scaled = scaler.transform(X_valid.reshape([X_valid.shape[0], 1]))"
   ]
  },
  {
   "cell_type": "markdown",
   "metadata": {},
   "source": [
    "Обучите созданным вами `SGDRegressor` на выборке `(X_train_scaled, y_train)`. Параметры оставьте по умолчанию."
   ]
  },
  {
   "cell_type": "code",
   "execution_count": 11,
   "metadata": {},
   "outputs": [
    {
     "name": "stderr",
     "output_type": "stream",
     "text": [
      "100%|██████████| 10/10 [00:32<00:00,  3.13s/it]\n"
     ]
    },
    {
     "data": {
      "text/plain": [
       "SGDRegressor(eta=0.001, n_iter=10)"
      ]
     },
     "execution_count": 11,
     "metadata": {},
     "output_type": "execute_result"
    }
   ],
   "source": [
    "oreg = SGDRegressor()\n",
    "oreg.fit(X_train_scaled, y_train)"
   ]
  },
  {
   "cell_type": "markdown",
   "metadata": {},
   "source": [
    "Изобразите на графике процесс обучения – как среднеквадратичная ошибка зависит от номера итерации стохастического градиентного спуска."
   ]
  },
  {
   "cell_type": "code",
   "execution_count": 12,
   "metadata": {},
   "outputs": [
    {
     "data": {
      "image/png": "[encoded data removed]",
      "text/plain": [
       "<matplotlib.figure.Figure at 0x111a644e0>"
      ]
     },
     "metadata": {},
     "output_type": "display_data"
    }
   ],
   "source": [
    "plt.plot(range(len(oreg.mse_)), oreg.mse_);"
   ]
  },
  {
   "cell_type": "markdown",
   "metadata": {},
   "source": [
    "Выведите наименьшее значение среднеквадратичной ошибки и лучший вектор весов модели."
   ]
  },
  {
   "cell_type": "code",
   "execution_count": 13,
   "metadata": {},
   "outputs": [
    {
     "data": {
      "text/plain": [
       "(2.7151352148331966, array([ 67.98984926,   0.94449031]))"
      ]
     },
     "execution_count": 13,
     "metadata": {},
     "output_type": "execute_result"
    }
   ],
   "source": [
    "np.min(oreg.mse_), oreg.w_"
   ]
  },
  {
   "cell_type": "markdown",
   "metadata": {},
   "source": [
    "Постройте график того, как менялись значения весов модели ($w_0$ и $w_1$) по мере обучения."
   ]
  },
  {
   "cell_type": "code",
   "execution_count": 14,
   "metadata": {},
   "outputs": [
    {
     "data": {
      "image/png": "[encoded data removed]",
      "text/plain": [
       "<matplotlib.figure.Figure at 0x117878908>"
      ]
     },
     "metadata": {},
     "output_type": "display_data"
    }
   ],
   "source": [
    "plt.plot([w[0] for w in oreg.weights_], \n",
    "         [w[1] for w in oreg.weights_]);"
   ]
  },
  {
   "cell_type": "markdown",
   "metadata": {},
   "source": [
    "Сделайте прогноз для отложенной выборки `(X_valid_scaled, y_valid)` и посмотрите на MSE."
   ]
  },
  {
   "cell_type": "code",
   "execution_count": 15,
   "metadata": {},
   "outputs": [
    {
     "data": {
      "text/plain": [
       "2.670867559718745"
      ]
     },
     "execution_count": 15,
     "metadata": {},
     "output_type": "execute_result"
    }
   ],
   "source": [
    "mean_squared_error(y_valid, oreg.predict(X_valid_scaled))"
   ]
  },
  {
   "cell_type": "markdown",
   "metadata": {},
   "source": [
    "Теперь следайте то же самое, но с `LinearRegression` из `sklearn.linear_model`. Посчитайте MSE для отложенной выборки."
   ]
  },
  {
   "cell_type": "code",
   "execution_count": 16,
   "metadata": {
    "collapsed": true
   },
   "outputs": [],
   "source": [
    "from sklearn.linear_model import LinearRegression"
   ]
  },
  {
   "cell_type": "code",
   "execution_count": 17,
   "metadata": {
    "collapsed": true
   },
   "outputs": [],
   "source": [
    "lm = LinearRegression().fit(X_train_scaled, y_train)"
   ]
  },
  {
   "cell_type": "code",
   "execution_count": 18,
   "metadata": {},
   "outputs": [
    {
     "data": {
      "text/plain": [
       "(array([ 0.94537278]), 67.989308347428576)"
      ]
     },
     "execution_count": 18,
     "metadata": {},
     "output_type": "execute_result"
    }
   ],
   "source": [
    "lm.coef_, lm.intercept_"
   ]
  },
  {
   "cell_type": "code",
   "execution_count": 19,
   "metadata": {},
   "outputs": [
    {
     "data": {
      "text/plain": [
       "2.6708307676676348"
      ]
     },
     "execution_count": 19,
     "metadata": {},
     "output_type": "execute_result"
    }
   ],
   "source": [
    "mean_squared_error(y_valid, lm.predict(X_valid_scaled))"
   ]
  },
  {
   "cell_type": "markdown",
   "metadata": {
    "collapsed": true
   },
   "source": [
    "<font color='red'>Вопрос 1.</font> В каком знаке после разделителя отличаются MSE линейной регрессии и `SGDRegressor` для отложенной выборки?\n",
    " - 2\n",
    " - 3\n",
    " - 4\n",
    " - 5"
   ]
  },
  {
   "cell_type": "markdown",
   "metadata": {},
   "source": [
    "<font color='red'>Ответ:</font> в 5-ом"
   ]
  },
  {
   "cell_type": "markdown",
   "metadata": {},
   "source": [
    "## 1.2. Логистическая регрессия и SGD\n",
    "Теперь давайте разберемся, как при таком же стохастическом подходе обучать логистическую регрессию."
   ]
  },
  {
   "cell_type": "markdown",
   "metadata": {},
   "source": [
    "Задача классификации, $X$ – обучающая выборка размеров $\\ell \\times (d+1)$ (первый столбец – вектор из единиц), $y$ – вектор ответов, $y_i \\in \\{-1, 1\\}$.\n",
    "В [4 статье](https://habrahabr.ru/company/ods/blog/323890/) серии мы подробно разбирали, как логистическая регрессия с $L_2$-регуляризацией сводится к задаче минимизации:\n",
    "$$ C\\sum_{i=1}^\\ell \\log{(1 + e^{-y_iw^Tx_i})} + \\frac{1}{2}\\sum_{j=1}^d w_j^2 \\rightarrow min_w$$"
   ]
  },
  {
   "cell_type": "markdown",
   "metadata": {},
   "source": [
    "<font color='red'>Вопрос 2.</font> По какой формуле будут пересчитываться веса логистической регрессии при обучении стохастическим градиентным спуском?\n",
    " - $w_j^{(t+1)} = w_j^{(t)} + \\eta (Cy_i x_{ij} \\sigma(y_iw^Tx_i) +  \\delta_{j\\neq0} w_j)$\n",
    " - $w_j^{(t+1)} = w_j^{(t)} - \\eta (Cy_i x_{ij} \\sigma(-y_iw^Tx_i) +  \\delta_{j\\neq0}w_j)$\n",
    " - $w_j^{(t+1)} = w_j^{(t)} - \\eta (Cy_i x_{ij} \\sigma(y_iw^Tx_i) -  \\delta_{j\\neq0}w_j )$\n",
    " - $w_j^{(t+1)} = w_j^{(t)} + \\eta (Cy_i x_{ij} \\sigma(-y_iw^Tx_i) -  \\delta_{j\\neq0}w_j)$\n",
    " \n",
    "Здесь \n",
    "- $i \\in {0,\\ldots, \\ell-1}, j \\in {0,\\ldots, d}$\n",
    "- C – коэффициент регуляризации\n",
    "- $x_{ij} $ – элемент матрицы X в строке $i$ и столбце $j$ (нумерация с 0), \n",
    "- $x_i$ – $i$-ая строка матрицы $X$ (нумерация с 0), \n",
    "- $w_j^{(t)}$ – значение $j$-ого элемента вектора весов $w$ на шаге $t$ стохастического градиентного спуска\n",
    "- $\\eta$ – небольшая константа, шаг градиентного спуска\n",
    "- $\\delta_{j\\neq0}$ – символ Кронекера, то есть 1, когда $j\\neq0$ и $0$ – в противном случае"
   ]
  },
  {
   "cell_type": "markdown",
   "metadata": {},
   "source": [
    "<font color='red'>Ответ:</font> последний вариант. Вывод:\n",
    "$$ J(w) = C\\sum_{i=1}^\\ell \\log{(1 + e^{-y_iw^Tx_i})} + \\frac{1}{2}\\sum_{j=1}^d w_j^2$$\n",
    "\n",
    "Сначала продифференцируем $f(z) = \\log{(1 + e^{-z})}$:\n",
    "\n",
    "$$\\frac{df}{dz} = \\frac{1}{1 + e^{-z}}\\frac{d(1 + e^{-z})}{dz} =  -\\frac{1}{1 + e^{-z}}e^{-z} = -\\frac{1}{e^z+1} = -\\sigma(-z)$$\n",
    "\n",
    "Далее\n",
    "$$\\frac{\\partial{J}}{\\partial{w_0}} = -C\\sum_{i=1}^\\ell \\sigma(-y_iw^Tx_i) \\frac{d(y_iw^Tx_i)}{dw_0} = -C\\sum_{i=1}^\\ell \\sigma(-y_iw^Tx_i)~y_i$$\n",
    "\n",
    "А для $j \\neq 0$:\n",
    "\n",
    "$$\\frac{\\partial{J}}{\\partial{w_j}} = -C\\sum_{i=1}^\\ell \\sigma(-y_iw^Tx_i) \\frac{d(y_iw^Tx_i)}{dw_j} + \\frac{d(\\frac{1}{2}\\sum_{j=1}^d w_j^2)}{dw_j} = -C\\sum_{i=1}^\\ell \\sigma(-y_iw^Tx_i)~y_ix_{ij} + w_j$$\n",
    "\n",
    "Формулы обновления весов при  градиентном спуске (не стохастическом):\n",
    "\n",
    "$$w_j^{(t+1)} = w_j^{(t)} -\\eta \\frac{\\partial{J}}{\\partial{w_j}}$$\n",
    "\n",
    "или\n",
    "\n",
    "$$w_0^{(t+1)} = w_0^{(t)} +\\eta C\\sum_{i=1}^\\ell \\sigma(-y_iw^Tx_i)~y_i$$\n",
    "$$w_j^{(t+1)} = w_j^{(t)} +\\eta (C\\sum_{i=1}^\\ell \\sigma(-y_iw^Tx_i)~y_ix_{ij} - w_j), j\\in 1 \\ldots d$$\n",
    "\n",
    "При стохастическом подходе знак суммы исчезает и получается\n",
    "\n",
    "$$w_j^{(t+1)} = w_j^{(t)} + \\eta (Cy_i x_{ij} \\sigma(-y_iw^Tx_i) -  \\delta_{j\\neq0}w_j)$$\n"
   ]
  },
  {
   "cell_type": "markdown",
   "metadata": {},
   "source": [
    "Реализуйте класс `SGDClassifier`. Спецификация:\n",
    "- класс наследуется от `sklearn.base.BaseEstimator`\n",
    "- конструктор принимает параметры `eta` – шаг градиентного спуска (по умолчанию $10^{-3}$), `n_iter` – число проходов по выборке (по умолчанию 10) и C – коэффициент регуляризации\n",
    "- также в конструкторе должны создаваться списки `loss_` и `weights_` для отслеживания значений логистических потерь и вектора весов по итерациям градиентного спуска\n",
    "- Класс имеет методы `fit`, `predict` и `predict_proba`\n",
    "- Метод `fit` принимает матрицу `X` и вектор `y` (объекты `numpy.array`, рассматриваем только случай бинарной классификации, и значения в векторе `y` могут быть -1 и 1), добавляет к матрице `X` слева столбец из единиц, инициализирует вектор весов `w` **нулями** и в цикле с числом итераций `n_iter` обновляет веса по выведенной вами формуле, а также записывает получившиеся на данной итерации значения log_loss и вектор весов `w` в предназначенные для этого списки. \n",
    "- В конце метод `fit` создает переменную `w_`, в которой хранится тот вектор весов, при котором ошибка минимальна\n",
    "- Метод `fit` должен возвращать текущий экземпляр класса `SGDClassifier`, т.е. `self`\n",
    "- Метод `predict_proba` принимает матрицу `X`, добавляет к ней слева столбец из единиц и возвращает матрицу прогнозов модели (такую же, какую возвращают методы `predict_proba` моделей `sklearn`), используя созданный методом `fit` вектор весов `w_`\n",
    "- Метод `predict` вызывает метод  `predict_proba` и возвращает вектор ответов: -1, если предсказанная вероятность класса 1 меньше 0.5 и 1 – в противном случае\n",
    "- И еще **важный момент**: во избежание вычислительных проблем из-за слишком больших или малых значений под экспонентной (overflow & underflow) используйте написанную функцию `sigma`"
   ]
  },
  {
   "cell_type": "code",
   "execution_count": 20,
   "metadata": {
    "collapsed": true
   },
   "outputs": [],
   "source": [
    "def sigma(z):\n",
    "    z = z.flatten()\n",
    "    z[z > 100] = 100\n",
    "    z[z < -100] = -100\n",
    "    return 1. / (1 + np.exp(-z))"
   ]
  },
  {
   "cell_type": "code",
   "execution_count": 21,
   "metadata": {
    "collapsed": true
   },
   "outputs": [],
   "source": [
    "class SGDClassifier(BaseEstimator):\n",
    "    \n",
    "    def __init__(self, C=1, eta=1e-3, n_iter=10):\n",
    "        self.eta = eta\n",
    "        self.C = C\n",
    "        self.n_iter = n_iter\n",
    "        self.loss_ = []\n",
    "        self.weights_ = []\n",
    "        \n",
    "    def fit(self, X, y):\n",
    "        X = np.hstack([np.ones([X.shape[0], 1]), X])\n",
    "        best_loss = np.inf\n",
    "        w = np.ones(X.shape[1])\n",
    "        \n",
    "        for it in tqdm(range(self.n_iter)):\n",
    "            for i in range(X.shape[0]):\n",
    "                w[0] += self.eta * y[i] * sigma(- y[i] * w.dot(X[i, :]))\n",
    "                for j in range(1, X.shape[1]):\n",
    "                    w[j] += self.eta *( self.C * y[i] * X[i, j] * \n",
    "                                       sigma(-y[i] * w.dot(X[i, :]))\n",
    "                                    -  w[j])\n",
    "                \n",
    "                self.loss_.append(log_loss(y, sigma(X.dot(w))))\n",
    "                self.weights_.append(w)\n",
    "    \n",
    "        self.w_ = self.weights_[np.argmin(self.loss_)]\n",
    "        return self\n",
    "                  \n",
    "    def predict_proba(self, X):\n",
    "        X = np.hstack([np.ones([X.shape[0], 1]), X])\n",
    "        p_vec = sigma(X.dot(self.w_)).reshape([X.shape[0], 1])\n",
    "        return np.hstack([1 - p_vec, p_vec])\n",
    "    \n",
    "    def predict(self, X):\n",
    "        pred_probs = self.predict_proba(X)[:, 1]\n",
    "        signs = np.sign(pred_probs - 0.5) \n",
    "        # но могли остаться нули, если значения в pred_probs = 0.5 в точности\n",
    "        signs[np.where(signs == 0)] = 1\n",
    "        return signs\n",
    "                  "
   ]
  },
  {
   "cell_type": "markdown",
   "metadata": {},
   "source": [
    "Проверим `SGDClassifier` на данных UCI по раку молочной железы."
   ]
  },
  {
   "cell_type": "code",
   "execution_count": 22,
   "metadata": {
    "collapsed": true
   },
   "outputs": [],
   "source": [
    "from sklearn.datasets import load_breast_cancer"
   ]
  },
  {
   "cell_type": "code",
   "execution_count": 23,
   "metadata": {
    "collapsed": true
   },
   "outputs": [],
   "source": [
    "cancer = load_breast_cancer()\n",
    "# поменяем метки в y с 0 на -1\n",
    "X, y = cancer.data, [-1 if i == 0 else 1 for i in cancer.target]"
   ]
  },
  {
   "cell_type": "markdown",
   "metadata": {},
   "source": [
    "Выделим 70% под обучение, 30% – под проверку и масштабируем выборку."
   ]
  },
  {
   "cell_type": "code",
   "execution_count": 24,
   "metadata": {
    "collapsed": true
   },
   "outputs": [],
   "source": [
    "X_train, X_valid, y_train, y_valid = train_test_split(X, y,\n",
    "                                                     test_size=0.3,\n",
    "                                                     random_state=17)"
   ]
  },
  {
   "cell_type": "code",
   "execution_count": 25,
   "metadata": {
    "collapsed": true
   },
   "outputs": [],
   "source": [
    "scaler = StandardScaler()\n",
    "X_train_scaled = scaler.fit_transform(X_train)\n",
    "X_valid_scaled = scaler.transform(X_valid)"
   ]
  },
  {
   "cell_type": "markdown",
   "metadata": {},
   "source": [
    "Обучите `SGDClassifier` с параметрами `C`=1, `eta`=$10^{-3}$ и `n_iter`=3."
   ]
  },
  {
   "cell_type": "code",
   "execution_count": 26,
   "metadata": {},
   "outputs": [
    {
     "name": "stderr",
     "output_type": "stream",
     "text": [
      "100%|██████████| 3/3 [00:01<00:00,  1.78it/s]\n"
     ]
    },
    {
     "data": {
      "text/plain": [
       "SGDClassifier(C=1, eta=0.001, n_iter=3)"
      ]
     },
     "execution_count": 26,
     "metadata": {},
     "output_type": "execute_result"
    }
   ],
   "source": [
    "oclf = SGDClassifier(C=1, n_iter=3, eta=1e-3)\n",
    "oclf.fit(X_train_scaled, y_train)"
   ]
  },
  {
   "cell_type": "markdown",
   "metadata": {},
   "source": [
    "Постройте график изменения log_loss."
   ]
  },
  {
   "cell_type": "code",
   "execution_count": 27,
   "metadata": {},
   "outputs": [
    {
     "data": {
      "image/png": "[encoded data removed]",
      "text/plain": [
       "<matplotlib.figure.Figure at 0x117c0c5c0>"
      ]
     },
     "metadata": {},
     "output_type": "display_data"
    }
   ],
   "source": [
    "plt.plot(range(len(oclf.loss_)), oclf.loss_);"
   ]
  },
  {
   "cell_type": "markdown",
   "metadata": {},
   "source": [
    "Теперь обучите `SGDClassifier` с параметром `C`=1000, число проходов по выборке увеличьте до 10."
   ]
  },
  {
   "cell_type": "code",
   "execution_count": 28,
   "metadata": {},
   "outputs": [
    {
     "name": "stderr",
     "output_type": "stream",
     "text": [
      "100%|██████████| 10/10 [00:05<00:00,  1.86it/s]\n"
     ]
    },
    {
     "data": {
      "text/plain": [
       "SGDClassifier(C=1000, eta=0.001, n_iter=10)"
      ]
     },
     "execution_count": 28,
     "metadata": {},
     "output_type": "execute_result"
    }
   ],
   "source": [
    "oclf = SGDClassifier(C=1000, n_iter=10)\n",
    "oclf.fit(X_train_scaled, y_train)"
   ]
  },
  {
   "cell_type": "code",
   "execution_count": 29,
   "metadata": {},
   "outputs": [
    {
     "data": {
      "image/png": "[encoded data removed]",
      "text/plain": [
       "<matplotlib.figure.Figure at 0x117babf60>"
      ]
     },
     "metadata": {},
     "output_type": "display_data"
    }
   ],
   "source": [
    "plt.plot(range(len(oclf.loss_)), oclf.loss_);"
   ]
  },
  {
   "cell_type": "markdown",
   "metadata": {},
   "source": [
    "Посмотрите на веса модели, при которых ошибка на обучении была минимальна."
   ]
  },
  {
   "cell_type": "markdown",
   "metadata": {},
   "source": [
    "<font color='red'>Вопрос 3.</font> Какой признак сильнее остальных влияет на вероятность того, что опухоль доброкачественна, согласно обученной модели `SGDClassifier`? (будьте внимательны – проверьте длину вектора весов, полученного после обучения, сравните с числом признаков в исходной задаче)\n",
    " - worst compactness\n",
    " - worst smoothness\n",
    " - worst concavity\n",
    " - concave points error\n",
    " - concavity error\n",
    " - compactness error\n",
    " - worst fractal dimension"
   ]
  },
  {
   "cell_type": "markdown",
   "metadata": {},
   "source": [
    "<font color='red'>Ответ:</font> worst smoothness"
   ]
  },
  {
   "cell_type": "code",
   "execution_count": 30,
   "metadata": {
    "collapsed": true
   },
   "outputs": [],
   "source": [
    "best_w = oclf.weights_[np.argmin(oclf.loss_)]"
   ]
  },
  {
   "cell_type": "code",
   "execution_count": 31,
   "metadata": {},
   "outputs": [
    {
     "data": {
      "text/plain": [
       "(-1.9181299999440218, 1.5651635728301767)"
      ]
     },
     "execution_count": 31,
     "metadata": {},
     "output_type": "execute_result"
    }
   ],
   "source": [
    "np.min(best_w), np.max(best_w)"
   ]
  },
  {
   "cell_type": "code",
   "execution_count": 32,
   "metadata": {},
   "outputs": [
    {
     "data": {
      "text/html": [
       "<div>\n",
       "<table border=\"1\" class=\"dataframe\">\n",
       "  <thead>\n",
       "    <tr style=\"text-align: right;\">\n",
       "      <th></th>\n",
       "      <th>coef</th>\n",
       "      <th>feat</th>\n",
       "    </tr>\n",
       "  </thead>\n",
       "  <tbody>\n",
       "    <tr>\n",
       "      <th>25</th>\n",
       "      <td>-1.918130</td>\n",
       "      <td>worst smoothness</td>\n",
       "    </tr>\n",
       "    <tr>\n",
       "      <th>11</th>\n",
       "      <td>-1.806145</td>\n",
       "      <td>radius error</td>\n",
       "    </tr>\n",
       "    <tr>\n",
       "      <th>27</th>\n",
       "      <td>-1.568681</td>\n",
       "      <td>worst concavity</td>\n",
       "    </tr>\n",
       "    <tr>\n",
       "      <th>8</th>\n",
       "      <td>-1.562533</td>\n",
       "      <td>mean concave points</td>\n",
       "    </tr>\n",
       "    <tr>\n",
       "      <th>7</th>\n",
       "      <td>-1.358649</td>\n",
       "      <td>mean concavity</td>\n",
       "    </tr>\n",
       "    <tr>\n",
       "      <th>1</th>\n",
       "      <td>-1.128707</td>\n",
       "      <td>mean radius</td>\n",
       "    </tr>\n",
       "    <tr>\n",
       "      <th>24</th>\n",
       "      <td>-1.091525</td>\n",
       "      <td>worst area</td>\n",
       "    </tr>\n",
       "    <tr>\n",
       "      <th>21</th>\n",
       "      <td>-1.028902</td>\n",
       "      <td>worst radius</td>\n",
       "    </tr>\n",
       "    <tr>\n",
       "      <th>14</th>\n",
       "      <td>-1.000546</td>\n",
       "      <td>area error</td>\n",
       "    </tr>\n",
       "    <tr>\n",
       "      <th>28</th>\n",
       "      <td>-0.883613</td>\n",
       "      <td>worst concave points</td>\n",
       "    </tr>\n",
       "    <tr>\n",
       "      <th>23</th>\n",
       "      <td>-0.865442</td>\n",
       "      <td>worst perimeter</td>\n",
       "    </tr>\n",
       "    <tr>\n",
       "      <th>2</th>\n",
       "      <td>-0.790976</td>\n",
       "      <td>mean texture</td>\n",
       "    </tr>\n",
       "    <tr>\n",
       "      <th>29</th>\n",
       "      <td>-0.778329</td>\n",
       "      <td>worst symmetry</td>\n",
       "    </tr>\n",
       "    <tr>\n",
       "      <th>22</th>\n",
       "      <td>-0.613935</td>\n",
       "      <td>worst texture</td>\n",
       "    </tr>\n",
       "    <tr>\n",
       "      <th>30</th>\n",
       "      <td>-0.555843</td>\n",
       "      <td>worst fractal dimension</td>\n",
       "    </tr>\n",
       "    <tr>\n",
       "      <th>17</th>\n",
       "      <td>-0.517991</td>\n",
       "      <td>concavity error</td>\n",
       "    </tr>\n",
       "    <tr>\n",
       "      <th>5</th>\n",
       "      <td>-0.494240</td>\n",
       "      <td>mean smoothness</td>\n",
       "    </tr>\n",
       "    <tr>\n",
       "      <th>26</th>\n",
       "      <td>-0.444912</td>\n",
       "      <td>worst compactness</td>\n",
       "    </tr>\n",
       "    <tr>\n",
       "      <th>13</th>\n",
       "      <td>-0.330326</td>\n",
       "      <td>perimeter error</td>\n",
       "    </tr>\n",
       "    <tr>\n",
       "      <th>3</th>\n",
       "      <td>-0.096722</td>\n",
       "      <td>mean perimeter</td>\n",
       "    </tr>\n",
       "    <tr>\n",
       "      <th>4</th>\n",
       "      <td>-0.073909</td>\n",
       "      <td>mean area</td>\n",
       "    </tr>\n",
       "    <tr>\n",
       "      <th>12</th>\n",
       "      <td>-0.063568</td>\n",
       "      <td>texture error</td>\n",
       "    </tr>\n",
       "    <tr>\n",
       "      <th>19</th>\n",
       "      <td>0.023652</td>\n",
       "      <td>symmetry error</td>\n",
       "    </tr>\n",
       "    <tr>\n",
       "      <th>9</th>\n",
       "      <td>0.143936</td>\n",
       "      <td>mean symmetry</td>\n",
       "    </tr>\n",
       "    <tr>\n",
       "      <th>18</th>\n",
       "      <td>0.168218</td>\n",
       "      <td>concave points error</td>\n",
       "    </tr>\n",
       "    <tr>\n",
       "      <th>15</th>\n",
       "      <td>0.257776</td>\n",
       "      <td>smoothness error</td>\n",
       "    </tr>\n",
       "    <tr>\n",
       "      <th>10</th>\n",
       "      <td>0.597489</td>\n",
       "      <td>mean fractal dimension</td>\n",
       "    </tr>\n",
       "    <tr>\n",
       "      <th>20</th>\n",
       "      <td>0.681507</td>\n",
       "      <td>fractal dimension error</td>\n",
       "    </tr>\n",
       "    <tr>\n",
       "      <th>0</th>\n",
       "      <td>0.994073</td>\n",
       "      <td>intercept</td>\n",
       "    </tr>\n",
       "    <tr>\n",
       "      <th>6</th>\n",
       "      <td>1.003187</td>\n",
       "      <td>mean compactness</td>\n",
       "    </tr>\n",
       "    <tr>\n",
       "      <th>16</th>\n",
       "      <td>1.565164</td>\n",
       "      <td>compactness error</td>\n",
       "    </tr>\n",
       "  </tbody>\n",
       "</table>\n",
       "</div>"
      ],
      "text/plain": [
       "        coef                     feat\n",
       "25 -1.918130         worst smoothness\n",
       "11 -1.806145             radius error\n",
       "27 -1.568681          worst concavity\n",
       "8  -1.562533      mean concave points\n",
       "7  -1.358649           mean concavity\n",
       "1  -1.128707              mean radius\n",
       "24 -1.091525               worst area\n",
       "21 -1.028902             worst radius\n",
       "14 -1.000546               area error\n",
       "28 -0.883613     worst concave points\n",
       "23 -0.865442          worst perimeter\n",
       "2  -0.790976             mean texture\n",
       "29 -0.778329           worst symmetry\n",
       "22 -0.613935            worst texture\n",
       "30 -0.555843  worst fractal dimension\n",
       "17 -0.517991          concavity error\n",
       "5  -0.494240          mean smoothness\n",
       "26 -0.444912        worst compactness\n",
       "13 -0.330326          perimeter error\n",
       "3  -0.096722           mean perimeter\n",
       "4  -0.073909                mean area\n",
       "12 -0.063568            texture error\n",
       "19  0.023652           symmetry error\n",
       "9   0.143936            mean symmetry\n",
       "18  0.168218     concave points error\n",
       "15  0.257776         smoothness error\n",
       "10  0.597489   mean fractal dimension\n",
       "20  0.681507  fractal dimension error\n",
       "0   0.994073                intercept\n",
       "6   1.003187         mean compactness\n",
       "16  1.565164        compactness error"
      ]
     },
     "execution_count": 32,
     "metadata": {},
     "output_type": "execute_result"
    }
   ],
   "source": [
    "pd.DataFrame({'coef': best_w,\n",
    "             'feat': ['intercept'] + list(cancer.feature_names)}).sort_values(by='coef')"
   ]
  },
  {
   "cell_type": "code",
   "execution_count": 33,
   "metadata": {},
   "outputs": [
    {
     "data": {
      "text/plain": [
       "'worst smoothness'"
      ]
     },
     "execution_count": 33,
     "metadata": {},
     "output_type": "execute_result"
    }
   ],
   "source": [
    "cancer.feature_names[np.argmin(best_w) - 1]"
   ]
  },
  {
   "cell_type": "markdown",
   "metadata": {},
   "source": [
    "Посчитайте log_loss и ROC AUC на отложенной выборке, проделайте все то же с `sklearn.linear_model.LogisticRegression` (параметры по умолчанию, только random_state=17) и сравните результаты."
   ]
  },
  {
   "cell_type": "code",
   "execution_count": 34,
   "metadata": {},
   "outputs": [
    {
     "data": {
      "text/plain": [
       "0.14271908653850099"
      ]
     },
     "execution_count": 34,
     "metadata": {},
     "output_type": "execute_result"
    }
   ],
   "source": [
    "log_loss(y_valid, oclf.predict_proba(X_valid_scaled)[:, 1])"
   ]
  },
  {
   "cell_type": "code",
   "execution_count": 35,
   "metadata": {},
   "outputs": [
    {
     "data": {
      "text/plain": [
       "0.98792846497764542"
      ]
     },
     "execution_count": 35,
     "metadata": {},
     "output_type": "execute_result"
    }
   ],
   "source": [
    "roc_auc_score(y_valid, oclf.predict_proba(X_valid_scaled)[:,1])"
   ]
  },
  {
   "cell_type": "code",
   "execution_count": 36,
   "metadata": {
    "collapsed": true
   },
   "outputs": [],
   "source": [
    "from sklearn.linear_model import LogisticRegression"
   ]
  },
  {
   "cell_type": "code",
   "execution_count": 37,
   "metadata": {
    "collapsed": true
   },
   "outputs": [],
   "source": [
    "logit = LogisticRegression(random_state=17).fit(X_train_scaled, y_train)"
   ]
  },
  {
   "cell_type": "code",
   "execution_count": 38,
   "metadata": {},
   "outputs": [
    {
     "data": {
      "text/plain": [
       "'radius error'"
      ]
     },
     "execution_count": 38,
     "metadata": {},
     "output_type": "execute_result"
    }
   ],
   "source": [
    "cancer.feature_names[np.argmin(logit.coef_.flatten())]"
   ]
  },
  {
   "cell_type": "code",
   "execution_count": 39,
   "metadata": {},
   "outputs": [
    {
     "data": {
      "text/plain": [
       "0.10569213477936719"
      ]
     },
     "execution_count": 39,
     "metadata": {},
     "output_type": "execute_result"
    }
   ],
   "source": [
    "log_loss(y_valid, logit.predict_proba(X_valid_scaled)[:,1])"
   ]
  },
  {
   "cell_type": "code",
   "execution_count": 40,
   "metadata": {},
   "outputs": [
    {
     "data": {
      "text/plain": [
       "0.98926974664679568"
      ]
     },
     "execution_count": 40,
     "metadata": {},
     "output_type": "execute_result"
    }
   ],
   "source": [
    "roc_auc_score(y_valid, logit.predict_proba(X_valid_scaled)[:,1])"
   ]
  },
  {
   "cell_type": "markdown",
   "metadata": {},
   "source": [
    "## 1.3. Логистическая регрессия и SGDClassifier в задаче классификации отзывов к фильмам"
   ]
  },
  {
   "cell_type": "markdown",
   "metadata": {},
   "source": [
    "Теперь посмотрим на логистическую регрессию и ее же версию, но обучаемую стохастическим градиентным спуском, в задаче классификации отзывов IMDB. С этой задачей мы знакомы по 4 и 8 темам курса. Данные можно скачать [отсюда](https://yadi.sk/d/SBnn8s9a3GvYWP).\n",
    "\n",
    "Импортируем файлы, и обучим на имеющихся данных `CountVectorizer`"
   ]
  },
  {
   "cell_type": "code",
   "execution_count": 41,
   "metadata": {
    "collapsed": true
   },
   "outputs": [],
   "source": [
    "from sklearn.datasets import load_files\n",
    "from sklearn.feature_extraction.text import CountVectorizer\n",
    "from sklearn.linear_model import SGDClassifier"
   ]
  },
  {
   "cell_type": "code",
   "execution_count": 42,
   "metadata": {
    "collapsed": true
   },
   "outputs": [],
   "source": [
    "# поменяйте путь к файлу\n",
    "reviews_train = load_files(\"/Users/y.kashnitsky/Yandex.Disk.localized/ML/data/imdb_reviews/train\")\n",
    "text_train, y_train = reviews_train.data, reviews_train.target"
   ]
  },
  {
   "cell_type": "code",
   "execution_count": 43,
   "metadata": {
    "collapsed": true
   },
   "outputs": [],
   "source": [
    "reviews_test = load_files(\"/Users/y.kashnitsky/Yandex.Disk.localized/ML/data/imdb_reviews/test\")\n",
    "text_test, y_test = reviews_test.data, reviews_test.target"
   ]
  },
  {
   "cell_type": "markdown",
   "metadata": {},
   "source": [
    "Обучим на имеющихся данных `CountVectorizer`, считая биграммы, то есть перейдем к разреженному представлению данных, где каждому уникальному слову и паре подряд идущих слов в обучающей выборке соответсвует признак. Всего таких признаков получается более 1.5 млн."
   ]
  },
  {
   "cell_type": "code",
   "execution_count": 44,
   "metadata": {},
   "outputs": [
    {
     "name": "stdout",
     "output_type": "stream",
     "text": [
      "CPU times: user 36.4 s, sys: 833 ms, total: 37.2 s\n",
      "Wall time: 37.3 s\n"
     ]
    }
   ],
   "source": [
    "%%time\n",
    "cv = CountVectorizer(ngram_range=(1, 2))\n",
    "X_train = cv.fit_transform(text_train)\n",
    "X_test = cv.transform(text_test)"
   ]
  },
  {
   "cell_type": "code",
   "execution_count": 45,
   "metadata": {},
   "outputs": [
    {
     "data": {
      "text/plain": [
       "((25000, 1513832), (25000, 1513832))"
      ]
     },
     "execution_count": 45,
     "metadata": {},
     "output_type": "execute_result"
    }
   ],
   "source": [
    "X_train.shape, X_test.shape"
   ]
  },
  {
   "cell_type": "markdown",
   "metadata": {},
   "source": [
    "Обучите на выборке `(X_train, y_train)` логистическую регрессию с параметрами по умолчанию (только укажите `random_state`=17) и посчитайте ROC AUC на тестовой выборке. Замерьте время обучения модели. Данные можно не масштабировать, так как признаки – по сути, счетчики, и они уже все измеряются примерно в одном диапазоне."
   ]
  },
  {
   "cell_type": "code",
   "execution_count": 51,
   "metadata": {},
   "outputs": [
    {
     "name": "stdout",
     "output_type": "stream",
     "text": [
      "CPU times: user 2min 13s, sys: 1.53 s, total: 2min 14s\n",
      "Wall time: 34 s\n"
     ]
    }
   ],
   "source": [
    "%%time \n",
    "logit = LogisticRegression(random_state=17)\n",
    "logit.fit(X_train, y_train);"
   ]
  },
  {
   "cell_type": "code",
   "execution_count": 52,
   "metadata": {},
   "outputs": [
    {
     "data": {
      "text/plain": [
       "0.95824772480000009"
      ]
     },
     "execution_count": 52,
     "metadata": {},
     "output_type": "execute_result"
    }
   ],
   "source": [
    "roc_auc_score(y_test, logit.predict_proba(X_test)[:, 1])"
   ]
  },
  {
   "cell_type": "markdown",
   "metadata": {},
   "source": [
    "Теперь перейдем к онлайн-алгоритму. Мы написали свой `SGDClassifier` и принцип его работы поняли, надо еще немного постараться, чтобы сделать его эффективным, например, сделать поддержку разреженных данных. Но мы теперь перейдем к `sklearn`-реализации SGD-алгоритма. Прочитайте документацию [SGDClassifier](http://scikit-learn.org/stable/modules/generated/sklearn.linear_model.SGDClassifier.html), сделайте выводы, чем `SGDClassifier` из `Sklearn` более продвинут, чем наша реализация SGD-классификатора. "
   ]
  },
  {
   "cell_type": "markdown",
   "metadata": {},
   "source": [
    "<font color='red'>Вопрос 4.</font> Чем `sklearn`-реализация стохастического классификатора более продвинута, чем `SGDClassifier`, который мы реализовали? Отметьте все подходящие варианты.\n",
    " - Изменяемый шаг градиентного спуска\n",
    " - Реализован линейный SVM\n",
    " - Реализована ранняя остановка во избежание переобучения\n",
    " - Есть распараллеливание по процессорам\n",
    " - Можно обучать LASSO\n",
    " - Поддерживается онлайн-обучение деревьев решений\n",
    " - Поддерживается mini-batch подход (обновление весов по нескольким объектам сразу, а не по одному)\n"
   ]
  },
  {
   "cell_type": "markdown",
   "metadata": {},
   "source": [
    "<font color='red'>Ответ:</font> Изменяемый шаг градиентного спуска, реализован линейный SVM, есть распараллеливание по процессорам, можно обучать LASSO, поддерживается mini-batch подход (обновление весов по нескольким объектам сразу, а не по одному)"
   ]
  },
  {
   "cell_type": "markdown",
   "metadata": {},
   "source": [
    "Проведите 100 итераций SGD-логрегрессии (опять `random_state`=17) на той же выборке. Опять замерьте время обучения модели и обратите внимание, насколько оно меньше, чем время обучения логистической регрессии."
   ]
  },
  {
   "cell_type": "code",
   "execution_count": 48,
   "metadata": {
    "collapsed": true
   },
   "outputs": [],
   "source": [
    "sgd_logit = SGDClassifier(loss='log', random_state=17,\n",
    "                         n_iter=100)"
   ]
  },
  {
   "cell_type": "code",
   "execution_count": 49,
   "metadata": {},
   "outputs": [
    {
     "name": "stdout",
     "output_type": "stream",
     "text": [
      "CPU times: user 7.54 s, sys: 62.2 ms, total: 7.6 s\n",
      "Wall time: 6.86 s\n"
     ]
    },
    {
     "data": {
      "text/plain": [
       "SGDClassifier(alpha=0.0001, average=False, class_weight=None, epsilon=0.1,\n",
       "       eta0=0.0, fit_intercept=True, l1_ratio=0.15,\n",
       "       learning_rate='optimal', loss='log', n_iter=100, n_jobs=1,\n",
       "       penalty='l2', power_t=0.5, random_state=17, shuffle=True, verbose=0,\n",
       "       warm_start=False)"
      ]
     },
     "execution_count": 49,
     "metadata": {},
     "output_type": "execute_result"
    }
   ],
   "source": [
    "%%time\n",
    "sgd_logit.fit(X_train, y_train)"
   ]
  },
  {
   "cell_type": "code",
   "execution_count": 50,
   "metadata": {},
   "outputs": [
    {
     "data": {
      "text/plain": [
       "0.95734586880000005"
      ]
     },
     "execution_count": 50,
     "metadata": {},
     "output_type": "execute_result"
    }
   ],
   "source": [
    "roc_auc_score(y_test, sgd_logit.predict_proba(X_test)[:, 1])"
   ]
  },
  {
   "cell_type": "markdown",
   "metadata": {},
   "source": [
    "<font color='red'>Вопрос 5.</font> В каком знаке после разделителя отличаются ROC AUC на тестовой выборке логистической регрессии и SGD-классификатора с логистической функцией потерь?\n",
    " - 2\n",
    " - 3\n",
    " - 4\n",
    " - 5"
   ]
  },
  {
   "cell_type": "markdown",
   "metadata": {},
   "source": [
    "<font color='red'>Ответ:</font> в 3-ем"
   ]
  }
 ],
 "metadata": {
  "kernelspec": {
   "display_name": "Python 3",
   "language": "python",
   "name": "python3"
  },
  "language_info": {
   "codemirror_mode": {
    "name": "ipython",
    "version": 3
   },
   "file_extension": ".py",
   "mimetype": "text/x-python",
   "name": "python",
   "nbconvert_exporter": "python",
   "pygments_lexer": "ipython3",
   "version": "3.6.1"
  }
 },
 "nbformat": 4,
 "nbformat_minor": 2
}
